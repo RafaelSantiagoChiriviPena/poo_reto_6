{
 "cells": [
  {
   "cell_type": "code",
   "execution_count": 1,
   "metadata": {},
   "outputs": [
    {
     "name": "stdout",
     "output_type": "stream",
     "text": [
      "50.0 * 9.0 = 450.0\n"
     ]
    }
   ],
   "source": [
    "# reto 1.1\n",
    "def operaciones (n1: float, n2: float, oper: str) -> float:\n",
    "\n",
    "    \"\"\"\n",
    "    args: n1: numero real, n2: numero real, oper: cadena que representa una operacion a realizar\n",
    "    output: toma en cuenta dos numeros ingresados y segun el ingreso del usuario para la operacion, se retorna esta misma en una estructura    n1 (operacion) n2 = (operacion de n1 con n2)\n",
    "    \"\"\"\n",
    "    match oper:\n",
    "        case \"+\":\n",
    "            print(f\"{n1} + {n2} = {n1 + n2}\")\n",
    "        case \"-\":\n",
    "            print(f\"{n1} - {n2} = {n1 - n2}\")\n",
    "        case \"*\":\n",
    "            print(f\"{n1} * {n2} = {n1 * n2}\")\n",
    "        case \"/\":\n",
    "            print(f\"{n1} / {n2} = {n1 / n2}\")\n",
    "            \n",
    "if __name__ == \"__main__\":\n",
    "    try:\n",
    "        num1 = float(input(\"Ingrese el numero 1 a operar: \"))   # ingreso de primer numero real\n",
    "        num2 = float(input(\"Ingrese el numero 2 a operar: \"))   # ingreso de segundo numero real\n",
    "        oper = str(input(\"Ingrese la operacion a realizar (+, -, *. /): \")) # ingreso de operacion\n",
    "        operaciones(num1, num2, oper)   # aplicacion de la funcion operaciones sobre los datos ingresados\n",
    "    except ValueError:\n",
    "        print(\"El dato ingresado no es un numero real\")"
   ]
  },
  {
   "cell_type": "code",
   "execution_count": 6,
   "metadata": {},
   "outputs": [
    {
     "name": "stdout",
     "output_type": "stream",
     "text": [
      "La palabra  es un palindromo\n"
     ]
    }
   ],
   "source": [
    "# reto 1.2\n",
    "def lista_texto (text: str) -> list:\n",
    "    \n",
    "    \"\"\"\n",
    "    args: text: recibe una cadena de caracteres\n",
    "    output: retorna una lista donde cada letra de la palabra es un dato dentro de la lista\n",
    "    \"\"\"\n",
    "    lista = []\n",
    "    for i in range(0, len(text)):\n",
    "        lista.append(text[i])\n",
    "    return lista\n",
    "def palindromo (text : str) -> str:\n",
    "\n",
    "    \"\"\"\n",
    "    args: text: recibe una cadena de caracteres\n",
    "    output: luego de aplicar la funcion lista_texto sobre el texto recibido, se crea una nueva lista donde se ingresan los datos de la lista desde el ultimo hasta el primero, paa luego comparar si tienen los mismos datos en mismo orden, determinando asi si es palindromo o no\n",
    "    \"\"\"\n",
    "    text = text.lower()\n",
    "    text = lista_texto(text)\n",
    "    text_inv = []\n",
    "    for i in range(0,len(text)):\n",
    "        text_inv.append(text[-1-i])\n",
    "    if text == text_inv:\n",
    "        print(f\"La palabra {\"\".join(text)} es un palindromo\")\n",
    "    if text != text_inv:\n",
    "        print(f\"La palabra {\"\".join(text)} NO es un palindromo\")\n",
    "\n",
    "if __name__ == \"__main__\":\n",
    "\t\t# Para este caso no se asigna ninguna excepcion puesto que cualquier simbolo utilizado aplica como una cadena de caracteres, con lo cual el codigo siempre aplicara la funcion para determinar si es o no palindromo\n",
    "        \n",
    "    palabra : str = input(\"Ingrese la palabra para verificar si es un palindromo\") # se ingresa la palabra a la cual analizar\n",
    "    palindromo(palabra) # se aplica la funcion palindromo sobre la palabra ingresada"
   ]
  },
  {
   "cell_type": "code",
   "execution_count": 7,
   "metadata": {},
   "outputs": [
    {
     "name": "stdout",
     "output_type": "stream",
     "text": [
      "la lista de numeros enteros ingresados fue [11, 5, 6, 2, 7]\n",
      " de esta lista, se obtienen los siguientes numeros primos: [11, 5, 2, 7]\n"
     ]
    }
   ],
   "source": [
    "# reto 1.3\n",
    "def lista_primos(lista: list) -> list:\n",
    "\n",
    "    \"\"\"\n",
    "    Args: lista: recibe un arreglo de numeros enteros sobre los cuales aplicar la funcion deteccion_primos\n",
    "    Output: Si se detecta que un numero es primo, es añadido a una lista de primos, misma la cual es el retorno de la funcion\n",
    "    \"\"\"\n",
    "    list_primos = []\n",
    "    for i in range(0, len(lista)):\n",
    "        if deteccion_primos(lista[i]) == True:\n",
    "            list_primos.append(lista[i])\n",
    "    return list_primos\n",
    "\n",
    "def deteccion_primos(dato: int) -> bool:\n",
    "    \n",
    "    \"\"\"\n",
    "    Args: dato: toma un numero entero sobre el cual obtener sus divisores para determinar si es primo\n",
    "    Output: se añaden 1's o 0's a una lista vacia segun si se obtiene residuo 0 en divisiones desde 1 hasta el dato obtenido, para luego contar el numero de 1's y determinar si es primo o no, retornando un booleano\n",
    "    \"\"\"\n",
    "    divisores = []\n",
    "    for i in range(1, dato+1):\n",
    "        if dato%i == 0:\n",
    "            divisores.append(1)\n",
    "        if dato%i != 0:\n",
    "            divisores.append(0)\n",
    "    if divisores.count(1) == 2:\n",
    "        return True\n",
    "    if divisores.count(1) != 2:\n",
    "        return False\n",
    "\n",
    "if __name__ == \"__main__\":\n",
    "    try:\n",
    "        len_lista : int = int(input(\"Digite el numero de datos para la lista de numeros: \"))    # se define el numero de datos para la lista\n",
    "        lista = []  # se define la lista vacia\n",
    "        for i in range(0, len_lista):   # se hace un recorrido para el ingreso de datos en la lista segun el numero registrado anteriormente\n",
    "            dato = int(input(\"Ingrese dato numerico entero para la lista: \"))\n",
    "            lista.append(dato)\n",
    "        print(f\"la lista de numeros enteros ingresados fue {lista}\")    # se imprime la lista ingresada\n",
    "        print(f\" de esta lista, se obtienen los siguientes numeros primos: {lista_primos(lista)}\")  # se aplica la funcion lista_primos sobre la lista ingresada se imprime esta misma\n",
    "    except ValueError:\n",
    "        print(\"El dato ingresado no es un numero entero\")\n"
   ]
  },
  {
   "cell_type": "code",
   "execution_count": 19,
   "metadata": {},
   "outputs": [
    {
     "name": "stdout",
     "output_type": "stream",
     "text": [
      "la lista de numeros enteros ingresados fue [1, 5, 9, 2, 6]\n",
      "La mayor suma obtenida es 14, que se encuentra en las posiciones de lista 2 y 3\n"
     ]
    }
   ],
   "source": [
    "def suma_consecutivos(lista_enteros: list) -> list:\n",
    "\n",
    "    \"\"\"\n",
    "    Args: lista_enteros: analiza un arreglo de numeros enteros\n",
    "    Output: Crea una matriz que guarda los resultados de las sumas de datos consecutivos junto a la posicion de los mismos, organizandolo en orden descendente y retornando el primer dato de la matriz\n",
    "    \"\"\"\n",
    "    sumas = []\n",
    "    for i in range(0, len(lista_enteros)-1):\n",
    "        posiciones = []\n",
    "        posiciones.append(lista_enteros[i]+lista_enteros[i+1])\n",
    "        posiciones.append([i, i+1])\n",
    "        sumas.append(posiciones)\n",
    "    sumas.sort(reverse= True)\n",
    "    return sumas[0]\n",
    "\n",
    "if __name__ == \"__main__\":\n",
    "    try:\n",
    "        len_lista : int = int(input(\"Digite el numero de datos para la lista de numeros: \"))    # se ingresa el numero de datos para la lista\n",
    "        lista = []  # se define la lista  vacia\n",
    "        for i in range(0, len_lista):   # se hace un recorrido para el ingreso de datos en la lista segun el numero registrado anteriormente\n",
    "            dato = int(input(\"Ingrese dato numerico entero para la lista: \"))\n",
    "            lista.append(dato)\n",
    "        print(f\"la lista de numeros enteros ingresados fue {lista}\")    # se muestra la lista ingresada\n",
    "        mayor_suma = suma_consecutivos(lista)   # se aplica la funcion sobre la lista ingresada\n",
    "        print(f\"La mayor suma obtenida es {mayor_suma[0]}, que se encuentra en las posiciones de lista {mayor_suma[1][0]+1} y {mayor_suma[1][1]+1}\")    # se retorna la suma mayor y muestra las posiciones en la lista que corresponden a la misma\n",
    "    except ValueError:\n",
    "        print(\"El dato ingresado no es un numero entero\")"
   ]
  },
  {
   "cell_type": "code",
   "execution_count": 56,
   "metadata": {},
   "outputs": [
    {
     "name": "stdout",
     "output_type": "stream",
     "text": [
      "['amor', 'roma', 'roma'] ['perro', 'rrepo'] "
     ]
    }
   ],
   "source": [
    "# reto 1.5\n",
    "def mismos_caracteres(lista_cadena : list) -> dict:\n",
    "\n",
    "    \"\"\"\n",
    "    Args: lista_cadena: una lista con datos de tipo string \n",
    "    Output: Un diccionario que registra como claves el orden lexicografico de las palabras en lista_cadena, y toma como valor una lista que guarda aquellas palabras que tienen el mismo orden lexicografico\n",
    "\n",
    "    \"\"\"\n",
    "    palabras_unicas = {}\n",
    "    for i in range(0,len(lista_cadena)):\n",
    "        lista_cadena[i] = lista_cadena[i].lower()\n",
    "    for i in range(0,len(lista_cadena)):\n",
    "        analisis = \"\".join(sorted(lista_cadena[i]))\n",
    "        if analisis not in palabras_unicas:\n",
    "            palabras_unicas[analisis] = [lista_cadena[i]]\n",
    "            continue\n",
    "        if analisis in palabras_unicas:\n",
    "            palabras_unicas[analisis].append(lista_cadena[i])\n",
    "    return palabras_unicas\n",
    "\n",
    "if __name__ == \"__main__\":\n",
    "    try:\n",
    "        len_lista : int = int(input(\"Digite el numero de datos para la lista de numeros: \"))    # se ingresa el numero de datos para la lista\n",
    "        lista = []  # se define la lista vacia\n",
    "        for i in range(0, len_lista):   # se hace un recorrido para el ingreso de datos en la lista segun el numero registrado anteriormente\n",
    "            dato = str(input(\"Ingrese la palabra para la lista: \"))\n",
    "            lista.append(dato)\n",
    "        palabras_comp = mismos_caracteres(lista)    # se aplica la funcion sobre la lista ingresada \n",
    "        for k, v in palabras_comp.items():  # se recorre el diccionario para imprimir las listas con una longitud mayor a 1, es decir, que en la lista original tengan mas de una palabra con el mismo orden lexicografico \n",
    "            if len(v) > 1:\n",
    "                print(v, end=\" \")\n",
    "    except ValueError:\n",
    "        print(\"El dato ingresado no es una cadena de caracteres\")"
   ]
  }
 ],
 "metadata": {
  "kernelspec": {
   "display_name": "Python 3",
   "language": "python",
   "name": "python3"
  },
  "language_info": {
   "codemirror_mode": {
    "name": "ipython",
    "version": 3
   },
   "file_extension": ".py",
   "mimetype": "text/x-python",
   "name": "python",
   "nbconvert_exporter": "python",
   "pygments_lexer": "ipython3",
   "version": "3.12.8"
  }
 },
 "nbformat": 4,
 "nbformat_minor": 2
}
